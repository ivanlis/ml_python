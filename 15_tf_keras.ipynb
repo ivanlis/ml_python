{
 "cells": [
  {
   "cell_type": "markdown",
   "metadata": {},
   "source": [
    "## TensorFlow Keras\n",
    "\n",
    "See https://www.tensorflow.org/guide/keras."
   ]
  },
  {
   "cell_type": "code",
   "execution_count": 4,
   "metadata": {},
   "outputs": [
    {
     "name": "stdout",
     "output_type": "stream",
     "text": [
      "TF version: 1.12.0, keras version: 2.1.6-tf\n"
     ]
    }
   ],
   "source": [
    "import tensorflow as tf\n",
    "from tensorflow.keras import layers\n",
    "\n",
    "print(\"TF version: {}, keras version: {}\".format(tf.VERSION, tf.keras.__version__))"
   ]
  },
  {
   "cell_type": "code",
   "execution_count": 5,
   "metadata": {},
   "outputs": [],
   "source": [
    "model = tf.keras.Sequential()\n",
    "model.add(layers.Dense(64, activation = 'relu'))\n",
    "model.add(layers.Dense(64, activation = 'relu'))\n",
    "model.add(layers.Dense(10, activation = 'softmax'))"
   ]
  },
  {
   "cell_type": "code",
   "execution_count": 6,
   "metadata": {},
   "outputs": [],
   "source": [
    "model.compile(optimizer = tf.train.AdamOptimizer(0.001),\n",
    "             loss = 'categorical_crossentropy',\n",
    "             metrics = ['accuracy'])"
   ]
  },
  {
   "cell_type": "code",
   "execution_count": 7,
   "metadata": {},
   "outputs": [],
   "source": [
    "import numpy as np"
   ]
  },
  {
   "cell_type": "code",
   "execution_count": 8,
   "metadata": {},
   "outputs": [],
   "source": [
    "data = np.random.random((1000, 32))\n",
    "labels = np.random.random((1000, 10))"
   ]
  },
  {
   "cell_type": "code",
   "execution_count": 9,
   "metadata": {},
   "outputs": [
    {
     "name": "stdout",
     "output_type": "stream",
     "text": [
      "Epoch 1/10\n",
      "1000/1000 [==============================] - 2s 2ms/step - loss: 11.4977 - acc: 0.1170\n",
      "Epoch 2/10\n",
      "1000/1000 [==============================] - 0s 158us/step - loss: 11.4651 - acc: 0.1020\n",
      "Epoch 3/10\n",
      "1000/1000 [==============================] - 0s 162us/step - loss: 11.4551 - acc: 0.1110\n",
      "Epoch 4/10\n",
      "1000/1000 [==============================] - 0s 121us/step - loss: 11.4498 - acc: 0.1280\n",
      "Epoch 5/10\n",
      "1000/1000 [==============================] - 0s 146us/step - loss: 11.4443 - acc: 0.1170\n",
      "Epoch 6/10\n",
      "1000/1000 [==============================] - 0s 135us/step - loss: 11.4398 - acc: 0.1480\n",
      "Epoch 7/10\n",
      "1000/1000 [==============================] - 0s 145us/step - loss: 11.4353 - acc: 0.1310\n",
      "Epoch 8/10\n",
      "1000/1000 [==============================] - 0s 125us/step - loss: 11.4314 - acc: 0.1560\n",
      "Epoch 9/10\n",
      "1000/1000 [==============================] - 0s 155us/step - loss: 11.4285 - acc: 0.1550\n",
      "Epoch 10/10\n",
      "1000/1000 [==============================] - 0s 135us/step - loss: 11.4223 - acc: 0.1630\n"
     ]
    },
    {
     "data": {
      "text/plain": [
       "<tensorflow.python.keras.callbacks.History at 0x7f16d5696be0>"
      ]
     },
     "execution_count": 9,
     "metadata": {},
     "output_type": "execute_result"
    }
   ],
   "source": [
    "model.fit(data, labels, epochs = 10, batch_size = 32)"
   ]
  },
  {
   "cell_type": "code",
   "execution_count": 10,
   "metadata": {},
   "outputs": [],
   "source": [
    "valData = np.random.random((100, 32))\n",
    "valLabels = np.random.random((100, 10))"
   ]
  },
  {
   "cell_type": "code",
   "execution_count": 11,
   "metadata": {},
   "outputs": [
    {
     "name": "stdout",
     "output_type": "stream",
     "text": [
      "Train on 1000 samples, validate on 100 samples\n",
      "Epoch 1/10\n",
      "1000/1000 [==============================] - 0s 301us/step - loss: 11.4177 - acc: 0.1630 - val_loss: 11.6389 - val_acc: 0.1400\n",
      "Epoch 2/10\n",
      "1000/1000 [==============================] - 0s 179us/step - loss: 11.4135 - acc: 0.1750 - val_loss: 11.6424 - val_acc: 0.1100\n",
      "Epoch 3/10\n",
      "1000/1000 [==============================] - 0s 188us/step - loss: 11.4091 - acc: 0.1540 - val_loss: 11.6423 - val_acc: 0.1300\n",
      "Epoch 4/10\n",
      "1000/1000 [==============================] - 0s 176us/step - loss: 11.4026 - acc: 0.1870 - val_loss: 11.6479 - val_acc: 0.1300\n",
      "Epoch 5/10\n",
      "1000/1000 [==============================] - 0s 161us/step - loss: 11.4010 - acc: 0.1720 - val_loss: 11.6411 - val_acc: 0.1300\n",
      "Epoch 6/10\n",
      "1000/1000 [==============================] - 0s 175us/step - loss: 11.3949 - acc: 0.1970 - val_loss: 11.6464 - val_acc: 0.1700\n",
      "Epoch 7/10\n",
      "1000/1000 [==============================] - 0s 141us/step - loss: 11.3894 - acc: 0.1950 - val_loss: 11.6496 - val_acc: 0.1400\n",
      "Epoch 8/10\n",
      "1000/1000 [==============================] - 0s 127us/step - loss: 11.3849 - acc: 0.2010 - val_loss: 11.6509 - val_acc: 0.1300\n",
      "Epoch 9/10\n",
      "1000/1000 [==============================] - 0s 155us/step - loss: 11.3794 - acc: 0.2110 - val_loss: 11.6565 - val_acc: 0.1300\n",
      "Epoch 10/10\n",
      "1000/1000 [==============================] - 0s 128us/step - loss: 11.3745 - acc: 0.2020 - val_loss: 11.6531 - val_acc: 0.1200\n"
     ]
    },
    {
     "data": {
      "text/plain": [
       "<tensorflow.python.keras.callbacks.History at 0x7f16d419e400>"
      ]
     },
     "execution_count": 11,
     "metadata": {},
     "output_type": "execute_result"
    }
   ],
   "source": [
    "model.fit(data, labels, batch_size = 32, epochs = 10,\n",
    "         validation_data = (valData, valLabels))"
   ]
  }
 ],
 "metadata": {
  "kernelspec": {
   "display_name": "Python 3",
   "language": "python",
   "name": "python3"
  },
  "language_info": {
   "codemirror_mode": {
    "name": "ipython",
    "version": 3
   },
   "file_extension": ".py",
   "mimetype": "text/x-python",
   "name": "python",
   "nbconvert_exporter": "python",
   "pygments_lexer": "ipython3",
   "version": "3.6.7+"
  }
 },
 "nbformat": 4,
 "nbformat_minor": 2
}
