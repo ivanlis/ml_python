{
 "cells": [
  {
   "cell_type": "markdown",
   "metadata": {},
   "source": [
    "# Feed-forward NN "
   ]
  },
  {
   "cell_type": "markdown",
   "metadata": {},
   "source": [
    "See: Deep Learning with TensorFlow, Md. Rezaul Karim, Giancarlo Zaccone"
   ]
  },
  {
   "cell_type": "code",
   "execution_count": 74,
   "metadata": {},
   "outputs": [],
   "source": [
    "import numpy as np\n",
    "import matplotlib.pyplot as plt\n",
    "import tensorflow as tf\n",
    "from tensorflow.examples.tutorials.mnist import input_data"
   ]
  },
  {
   "cell_type": "code",
   "execution_count": 75,
   "metadata": {},
   "outputs": [
    {
     "name": "stdout",
     "output_type": "stream",
     "text": [
      "Extracting data/digits/train-images-idx3-ubyte.gz\n",
      "Extracting data/digits/train-labels-idx1-ubyte.gz\n",
      "Extracting data/digits/t10k-images-idx3-ubyte.gz\n",
      "Extracting data/digits/t10k-labels-idx1-ubyte.gz\n"
     ]
    }
   ],
   "source": [
    "import os\n",
    "dataPath = \"data/digits\"\n",
    "if not os.path.exists(dataPath):\n",
    "    os.makedirs(dataPath)\n",
    "inputData = input_data.read_data_sets(dataPath, one_hot = True);"
   ]
  },
  {
   "cell_type": "code",
   "execution_count": 76,
   "metadata": {},
   "outputs": [
    {
     "data": {
      "text/plain": [
       "['__add__',\n",
       " '__class__',\n",
       " '__contains__',\n",
       " '__delattr__',\n",
       " '__dir__',\n",
       " '__doc__',\n",
       " '__eq__',\n",
       " '__format__',\n",
       " '__ge__',\n",
       " '__getattribute__',\n",
       " '__getitem__',\n",
       " '__getnewargs__',\n",
       " '__gt__',\n",
       " '__hash__',\n",
       " '__init__',\n",
       " '__init_subclass__',\n",
       " '__iter__',\n",
       " '__le__',\n",
       " '__len__',\n",
       " '__lt__',\n",
       " '__module__',\n",
       " '__mul__',\n",
       " '__ne__',\n",
       " '__new__',\n",
       " '__reduce__',\n",
       " '__reduce_ex__',\n",
       " '__repr__',\n",
       " '__rmul__',\n",
       " '__setattr__',\n",
       " '__sizeof__',\n",
       " '__slots__',\n",
       " '__str__',\n",
       " '__subclasshook__',\n",
       " '_asdict',\n",
       " '_fields',\n",
       " '_make',\n",
       " '_replace',\n",
       " '_source',\n",
       " 'count',\n",
       " 'index',\n",
       " 'test',\n",
       " 'train',\n",
       " 'validation']"
      ]
     },
     "execution_count": 76,
     "metadata": {},
     "output_type": "execute_result"
    }
   ],
   "source": [
    "dir(inputData)"
   ]
  },
  {
   "cell_type": "code",
   "execution_count": 77,
   "metadata": {},
   "outputs": [
    {
     "name": "stdout",
     "output_type": "stream",
     "text": [
      "Shapes of arrays:\n",
      "training images: (55000, 784), training labels: (55000, 10),\n",
      "testing images: (10000, 784), testing labels: (10000, 10)\n"
     ]
    }
   ],
   "source": [
    "print(\"Shapes of arrays:\\ntraining images: {}, training labels: {},\\ntesting images: {}, testing labels: {}\".format(\n",
    "    inputData.train.images.shape, inputData.train.labels.shape, \n",
    "    inputData.test.images.shape, inputData.test.labels.shape))"
   ]
  },
  {
   "cell_type": "markdown",
   "metadata": {},
   "source": [
    "## Drawing an image"
   ]
  },
  {
   "cell_type": "code",
   "execution_count": 78,
   "metadata": {},
   "outputs": [
    {
     "data": {
      "text/plain": [
       "array([0., 0., 0., 0., 0., 0., 0., 1., 0., 0.])"
      ]
     },
     "execution_count": 78,
     "metadata": {},
     "output_type": "execute_result"
    }
   ],
   "source": [
    "image0 = np.resize(inputData.train.images[0], (28, 28))\n",
    "label0 = inputData.train.labels[0]\n",
    "label0"
   ]
  },
  {
   "cell_type": "code",
   "execution_count": 79,
   "metadata": {},
   "outputs": [
    {
     "data": {
      "image/png": "[encoded data removed]",
      "text/plain": [
       "<Figure size 432x288 with 1 Axes>"
      ]
     },
     "metadata": {
      "needs_background": "light"
     },
     "output_type": "display_data"
    }
   ],
   "source": [
    "plt.imshow(image0, cmap = 'Greys_r');"
   ]
  },
  {
   "cell_type": "markdown",
   "metadata": {},
   "source": [
    "## Network architecture (5 levels sigmoid)"
   ]
  },
  {
   "cell_type": "markdown",
   "metadata": {},
   "source": [
    "Layer 1: sigmoid, L = 200 neurons\n",
    "\n",
    "Layer 2: sigmoid, M = 100 neurons \n",
    "\n",
    "Layer 3: sigmoid, N =  60 neurons \n",
    "\n",
    "Layer 4: sigmoid, O =  30 neurons \n",
    "\n",
    "Layer 5: softmax,      10 neurons "
   ]
  },
  {
   "cell_type": "code",
   "execution_count": 80,
   "metadata": {},
   "outputs": [],
   "source": [
    "import math\n",
    "from tensorflow.python.framework import ops\n",
    "import random"
   ]
  },
  {
   "cell_type": "code",
   "execution_count": 81,
   "metadata": {},
   "outputs": [],
   "source": [
    "logsPath = 'logs/sigmoid5'\n",
    "batchSize = 100\n",
    "learningRate = 0.003\n",
    "trainingEpochs = 10\n",
    "displayEpoch = 1\n",
    "imageWidth = 28\n",
    "\n",
    "numOutputs = 10"
   ]
  },
  {
   "cell_type": "markdown",
   "metadata": {},
   "source": [
    "### Building the graph"
   ]
  },
  {
   "cell_type": "code",
   "execution_count": 82,
   "metadata": {},
   "outputs": [],
   "source": [
    "tf.reset_default_graph()"
   ]
  },
  {
   "cell_type": "code",
   "execution_count": 83,
   "metadata": {},
   "outputs": [],
   "source": [
    "X = tf.placeholder(tf.float64, shape = [None, imageWidth * imageWidth], name = 'InputData')\n",
    "XX = tf.reshape(X, [-1, imageWidth * imageWidth])\n",
    "Y_ = tf.placeholder(tf.float64, [None, numOutputs], name = 'LabelData') # 10 classes: digits 0-9"
   ]
  },
  {
   "cell_type": "markdown",
   "metadata": {},
   "source": [
    "#### Number of neurons"
   ]
  },
  {
   "cell_type": "code",
   "execution_count": 84,
   "metadata": {},
   "outputs": [],
   "source": [
    "L = 200\n",
    "M = 100\n",
    "N =  60\n",
    "O =  30"
   ]
  },
  {
   "cell_type": "markdown",
   "metadata": {},
   "source": [
    "Level 1 weights: from imageWidth * imageWidth inputs to L neurons\n",
    "\n",
    "Level 1 bias: one for each of the L neurons"
   ]
  },
  {
   "cell_type": "code",
   "execution_count": 85,
   "metadata": {},
   "outputs": [],
   "source": [
    "W1 = tf.Variable(dtype = tf.float64, initial_value = \n",
    "                 tf.truncated_normal(dtype = tf.float64, shape = [imageWidth * imageWidth, L], stddev = 0.1))\n",
    "B1 = tf.Variable(dtype = tf.float64, initial_value = tf.zeros(dtype = tf.float64, shape = [L]))"
   ]
  },
  {
   "cell_type": "markdown",
   "metadata": {},
   "source": [
    "Level 1 output"
   ]
  },
  {
   "cell_type": "code",
   "execution_count": 86,
   "metadata": {},
   "outputs": [],
   "source": [
    "Y1 = tf.nn.sigmoid(tf.matmul(XX, W1) + B1)"
   ]
  },
  {
   "cell_type": "markdown",
   "metadata": {},
   "source": [
    "Level 2"
   ]
  },
  {
   "cell_type": "code",
   "execution_count": 87,
   "metadata": {},
   "outputs": [],
   "source": [
    "W2 = tf.Variable(dtype = tf.float64, \n",
    "                 initial_value = tf.truncated_normal(dtype = tf.float64, shape = [L, M], stddev = 0.1))\n",
    "B2 = tf.Variable(initial_value = tf.zeros(dtype = tf.float64, shape = [M]))\n",
    "Y2 = tf.nn.sigmoid(tf.matmul(Y1, W2) + B2)"
   ]
  },
  {
   "cell_type": "markdown",
   "metadata": {},
   "source": [
    "Level 3"
   ]
  },
  {
   "cell_type": "code",
   "execution_count": 88,
   "metadata": {},
   "outputs": [],
   "source": [
    "W3 = tf.Variable(initial_value = tf.truncated_normal(dtype = tf.float64, shape = [M, N], stddev = 0.1))\n",
    "B3 = tf.Variable(initial_value = tf.zeros(dtype = tf.float64, shape = [N]))\n",
    "Y3 = tf.nn.sigmoid(tf.matmul(Y2, W3) + B3)"
   ]
  },
  {
   "cell_type": "markdown",
   "metadata": {},
   "source": [
    "Level 4"
   ]
  },
  {
   "cell_type": "code",
   "execution_count": 89,
   "metadata": {},
   "outputs": [],
   "source": [
    "W4 = tf.Variable(initial_value = tf.truncated_normal(dtype = tf.float64, shape = [N, O], stddev = 0.1))\n",
    "B4 = tf.Variable(initial_value = tf.zeros(dtype = tf.float64, shape = [O]))\n",
    "Y4 = tf.nn.sigmoid(tf.matmul(Y3, W4) + B4)"
   ]
  },
  {
   "cell_type": "markdown",
   "metadata": {},
   "source": [
    "Level 5 (output)"
   ]
  },
  {
   "cell_type": "code",
   "execution_count": 90,
   "metadata": {},
   "outputs": [],
   "source": [
    "W5 = tf.Variable(initial_value = tf.truncated_normal(dtype = tf.float64, shape = [O, numOutputs], stddev = 0.1))\n",
    "B5 = tf.Variable(tf.ones(dtype = tf.float64, shape = [numOutputs]))\n",
    "Ylogits = tf.matmul(Y4, W5) + B5\n",
    "Y = tf.nn.softmax(Ylogits)"
   ]
  },
  {
   "cell_type": "markdown",
   "metadata": {},
   "source": [
    "Loss function: the cross-entropy between the target and the softmax activation function output (?)"
   ]
  },
  {
   "cell_type": "code",
   "execution_count": 91,
   "metadata": {},
   "outputs": [],
   "source": [
    "crossEntropy = tf.nn.softmax_cross_entropy_with_logits_v2(logits = Ylogits, labels = Y_)"
   ]
  },
  {
   "cell_type": "code",
   "execution_count": 92,
   "metadata": {},
   "outputs": [],
   "source": [
    "costOp = tf.reduce_mean(crossEntropy) * 100"
   ]
  },
  {
   "cell_type": "code",
   "execution_count": 93,
   "metadata": {},
   "outputs": [],
   "source": [
    "correctPrediction = tf.equal(tf.argmax(Y, axis = 1), tf.argmax(Y_, axis = 1))\n",
    "accuracy = tf.reduce_mean(tf.cast(correctPrediction, tf.float64))"
   ]
  },
  {
   "cell_type": "markdown",
   "metadata": {},
   "source": [
    "Optimizer"
   ]
  },
  {
   "cell_type": "code",
   "execution_count": 94,
   "metadata": {},
   "outputs": [],
   "source": [
    "trainOp = tf.train.AdamOptimizer(learningRate).minimize(costOp)"
   ]
  },
  {
   "cell_type": "markdown",
   "metadata": {},
   "source": [
    "#### Summaries for TensorBoard"
   ]
  },
  {
   "cell_type": "code",
   "execution_count": 95,
   "metadata": {},
   "outputs": [],
   "source": [
    "tf.summary.scalar(\"cost\", costOp)\n",
    "tf.summary.scalar(\"accuracy\", accuracy)\n",
    "summaryOp = tf.summary.merge_all()"
   ]
  },
  {
   "cell_type": "markdown",
   "metadata": {},
   "source": [
    "### Execute Training"
   ]
  },
  {
   "cell_type": "code",
   "execution_count": 96,
   "metadata": {},
   "outputs": [],
   "source": [
    "initOp = tf.global_variables_initializer()"
   ]
  },
  {
   "cell_type": "code",
   "execution_count": 97,
   "metadata": {},
   "outputs": [],
   "source": [
    "from tensorflow.examples.tutorials import mnist"
   ]
  },
  {
   "cell_type": "code",
   "execution_count": 98,
   "metadata": {},
   "outputs": [
    {
     "name": "stdout",
     "output_type": "stream",
     "text": [
      "Epoch: 0\n",
      "Epoch: 1\n",
      "Epoch: 2\n",
      "Epoch: 3\n",
      "Epoch: 4\n",
      "Epoch: 5\n",
      "Epoch: 6\n",
      "Epoch: 7\n",
      "Epoch: 8\n",
      "Epoch: 9\n",
      "Optimization finished.\n",
      "Accuracy: 0.9679\n"
     ]
    }
   ],
   "source": [
    "with tf.Session() as sess:\n",
    "    sess.run(initOp)\n",
    "    writer = tf.summary.FileWriter(logsPath, graph = tf.get_default_graph())\n",
    "    \n",
    "    for epoch in range(trainingEpochs):\n",
    "        batchCount = int(inputData.train.num_examples / batchSize)\n",
    "        for i in range(batchCount):\n",
    "            batchX, batchY = inputData.train.next_batch(batchSize)\n",
    "            _, summary = sess.run([trainOp, summaryOp], feed_dict = {X: batchX, Y_: batchY})\n",
    "            writer.add_summary(summary, epoch * batchCount + i)\n",
    "        print(\"Epoch: {}\".format(epoch))\n",
    "    print(\"Optimization finished.\")\n",
    "\n",
    "    print(\"Accuracy: {}\".format(accuracy.eval(feed_dict = {X: inputData.test.images, Y_: inputData.test.labels})))"
   ]
  }
 ],
 "metadata": {
  "kernelspec": {
   "display_name": "Python 3",
   "language": "python",
   "name": "python3"
  },
  "language_info": {
   "codemirror_mode": {
    "name": "ipython",
    "version": 3
   },
   "file_extension": ".py",
   "mimetype": "text/x-python",
   "name": "python",
   "nbconvert_exporter": "python",
   "pygments_lexer": "ipython3",
   "version": "3.6.7+"
  }
 },
 "nbformat": 4,
 "nbformat_minor": 2
}
