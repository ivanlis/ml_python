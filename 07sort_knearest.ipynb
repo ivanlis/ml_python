{
 "cells": [
  {
   "cell_type": "code",
   "execution_count": 11,
   "metadata": {},
   "outputs": [
    {
     "data": {
      "image/png": "[encoded data removed]",
      "text/plain": [
       "<Figure size 432x288 with 1 Axes>"
      ]
     },
     "metadata": {},
     "output_type": "display_data"
    }
   ],
   "source": [
    "%matplotlib inline\n",
    "\n",
    "import numpy as np\n",
    "import matplotlib.pyplot as plt\n",
    "import seaborn as sns\n",
    "sns.set()\n",
    "\n",
    "np.random.seed(2018)\n",
    "X = np.random.rand(10, 2)\n",
    "\n",
    "fig = plt.figure()\n",
    "ax = plt.axes()\n",
    "\n",
    "ax.scatter(X[:, 0], X[:, 1], s = 100);"
   ]
  },
  {
   "cell_type": "code",
   "execution_count": 26,
   "metadata": {},
   "outputs": [
    {
     "data": {
      "text/plain": [
       "(10, 10)"
      ]
     },
     "execution_count": 26,
     "metadata": {},
     "output_type": "execute_result"
    }
   ],
   "source": [
    "dist_sq = np.sum((X[:, np.newaxis, :] - X[np.newaxis, :, :]) ** 2, axis = -1)\n",
    "dist_sq.shape"
   ]
  },
  {
   "cell_type": "code",
   "execution_count": 27,
   "metadata": {},
   "outputs": [
    {
     "data": {
      "text/plain": [
       "array([0., 0., 0., 0., 0., 0., 0., 0., 0., 0.])"
      ]
     },
     "execution_count": 27,
     "metadata": {},
     "output_type": "execute_result"
    }
   ],
   "source": [
    "dist_sq.diagonal()"
   ]
  },
  {
   "cell_type": "code",
   "execution_count": 28,
   "metadata": {},
   "outputs": [
    {
     "data": {
      "text/plain": [
       "array([[0, 4, 6, 1, 8, 3, 9, 2, 5, 7],\n",
       "       [1, 0, 4, 6, 8, 3, 9, 2, 5, 7],\n",
       "       [2, 9, 7, 8, 3, 5, 6, 1, 4, 0],\n",
       "       [3, 9, 5, 1, 2, 8, 7, 6, 4, 0],\n",
       "       [4, 0, 6, 1, 8, 3, 2, 9, 5, 7],\n",
       "       [5, 3, 9, 7, 2, 1, 8, 6, 4, 0],\n",
       "       [6, 4, 8, 0, 1, 2, 9, 3, 5, 7],\n",
       "       [7, 2, 9, 5, 3, 8, 1, 6, 4, 0],\n",
       "       [8, 6, 4, 0, 1, 2, 9, 3, 7, 5],\n",
       "       [9, 3, 2, 5, 7, 1, 8, 6, 4, 0]])"
      ]
     },
     "execution_count": 28,
     "metadata": {},
     "output_type": "execute_result"
    }
   ],
   "source": [
    "nearestComplete = np.argsort(dist_sq, axis = 1)\n",
    "nearestComplete"
   ]
  },
  {
   "cell_type": "code",
   "execution_count": 29,
   "metadata": {},
   "outputs": [
    {
     "data": {
      "text/plain": [
       "array([[0, 4, 6, 1, 8, 3, 9, 2, 7, 5],\n",
       "       [1, 0, 4, 6, 8, 3, 2, 7, 5, 9],\n",
       "       [9, 7, 2, 8, 3, 5, 6, 1, 4, 0],\n",
       "       [9, 5, 3, 1, 2, 8, 6, 7, 4, 0],\n",
       "       [4, 0, 6, 1, 8, 3, 2, 9, 7, 5],\n",
       "       [9, 3, 5, 7, 2, 1, 6, 8, 4, 0],\n",
       "       [6, 4, 8, 0, 1, 2, 9, 7, 5, 3],\n",
       "       [5, 7, 2, 9, 3, 1, 6, 8, 4, 0],\n",
       "       [6, 4, 8, 0, 1, 2, 9, 7, 5, 3],\n",
       "       [5, 3, 2, 9, 7, 1, 6, 8, 4, 0]])"
      ]
     },
     "execution_count": 29,
     "metadata": {},
     "output_type": "execute_result"
    }
   ],
   "source": [
    "k = 3\n",
    "nearestK = np.argpartition(dist_sq, k + 1, axis = 1)\n",
    "nearestK"
   ]
  },
  {
   "cell_type": "code",
   "execution_count": null,
   "metadata": {},
   "outputs": [],
   "source": []
  }
 ],
 "metadata": {
  "kernelspec": {
   "display_name": "Python 3",
   "language": "python",
   "name": "python3"
  },
  "language_info": {
   "codemirror_mode": {
    "name": "ipython",
    "version": 3
   },
   "file_extension": ".py",
   "mimetype": "text/x-python",
   "name": "python",
   "nbconvert_exporter": "python",
   "pygments_lexer": "ipython3",
   "version": "3.7.1"
  }
 },
 "nbformat": 4,
 "nbformat_minor": 2
}
