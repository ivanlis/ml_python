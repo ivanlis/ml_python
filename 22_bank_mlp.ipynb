{
 "cells": [
  {
   "cell_type": "markdown",
   "metadata": {},
   "source": [
    "# MLP for the bank dataset"
   ]
  },
  {
   "cell_type": "code",
   "execution_count": 113,
   "metadata": {},
   "outputs": [],
   "source": [
    "import pandas as pd\n",
    "import numpy as np\n",
    "import tensorflow as tf\n",
    "from sklearn.model_selection import train_test_split\n",
    "import os"
   ]
  },
  {
   "cell_type": "code",
   "execution_count": 114,
   "metadata": {},
   "outputs": [],
   "source": [
    "FILE_PATH = 'data/bank/bank_normalized.csv'\n",
    "rawData = pd.read_csv(FILE_PATH)"
   ]
  },
  {
   "cell_type": "code",
   "execution_count": 115,
   "metadata": {},
   "outputs": [
    {
     "data": {
      "text/html": [
       "<div>\n",
       "<style scoped>\n",
       "    .dataframe tbody tr th:only-of-type {\n",
       "        vertical-align: middle;\n",
       "    }\n",
       "\n",
       "    .dataframe tbody tr th {\n",
       "        vertical-align: top;\n",
       "    }\n",
       "\n",
       "    .dataframe thead th {\n",
       "        text-align: right;\n",
       "    }\n",
       "</style>\n",
       "<table border=\"1\" class=\"dataframe\">\n",
       "  <thead>\n",
       "    <tr style=\"text-align: right;\">\n",
       "      <th></th>\n",
       "      <th>age</th>\n",
       "      <th>duration</th>\n",
       "      <th>campaign</th>\n",
       "      <th>pdays</th>\n",
       "      <th>previous</th>\n",
       "      <th>emp.var.rate</th>\n",
       "      <th>cons.price.idx</th>\n",
       "      <th>cons.conf.idx</th>\n",
       "      <th>euribor3m</th>\n",
       "      <th>nr.employed</th>\n",
       "      <th>...</th>\n",
       "      <th>oct</th>\n",
       "      <th>sep</th>\n",
       "      <th>fri</th>\n",
       "      <th>mon</th>\n",
       "      <th>thu</th>\n",
       "      <th>tue</th>\n",
       "      <th>wed</th>\n",
       "      <th>failure</th>\n",
       "      <th>nonexistent</th>\n",
       "      <th>success</th>\n",
       "    </tr>\n",
       "  </thead>\n",
       "  <tbody>\n",
       "    <tr>\n",
       "      <th>0</th>\n",
       "      <td>0.481481</td>\n",
       "      <td>0.053070</td>\n",
       "      <td>0.0</td>\n",
       "      <td>1.0</td>\n",
       "      <td>0.0</td>\n",
       "      <td>0.9375</td>\n",
       "      <td>0.698753</td>\n",
       "      <td>0.60251</td>\n",
       "      <td>0.957379</td>\n",
       "      <td>0.859735</td>\n",
       "      <td>...</td>\n",
       "      <td>0</td>\n",
       "      <td>0</td>\n",
       "      <td>0</td>\n",
       "      <td>1</td>\n",
       "      <td>0</td>\n",
       "      <td>0</td>\n",
       "      <td>0</td>\n",
       "      <td>0</td>\n",
       "      <td>1</td>\n",
       "      <td>0</td>\n",
       "    </tr>\n",
       "    <tr>\n",
       "      <th>1</th>\n",
       "      <td>0.493827</td>\n",
       "      <td>0.030297</td>\n",
       "      <td>0.0</td>\n",
       "      <td>1.0</td>\n",
       "      <td>0.0</td>\n",
       "      <td>0.9375</td>\n",
       "      <td>0.698753</td>\n",
       "      <td>0.60251</td>\n",
       "      <td>0.957379</td>\n",
       "      <td>0.859735</td>\n",
       "      <td>...</td>\n",
       "      <td>0</td>\n",
       "      <td>0</td>\n",
       "      <td>0</td>\n",
       "      <td>1</td>\n",
       "      <td>0</td>\n",
       "      <td>0</td>\n",
       "      <td>0</td>\n",
       "      <td>0</td>\n",
       "      <td>1</td>\n",
       "      <td>0</td>\n",
       "    </tr>\n",
       "    <tr>\n",
       "      <th>2</th>\n",
       "      <td>0.246914</td>\n",
       "      <td>0.045954</td>\n",
       "      <td>0.0</td>\n",
       "      <td>1.0</td>\n",
       "      <td>0.0</td>\n",
       "      <td>0.9375</td>\n",
       "      <td>0.698753</td>\n",
       "      <td>0.60251</td>\n",
       "      <td>0.957379</td>\n",
       "      <td>0.859735</td>\n",
       "      <td>...</td>\n",
       "      <td>0</td>\n",
       "      <td>0</td>\n",
       "      <td>0</td>\n",
       "      <td>1</td>\n",
       "      <td>0</td>\n",
       "      <td>0</td>\n",
       "      <td>0</td>\n",
       "      <td>0</td>\n",
       "      <td>1</td>\n",
       "      <td>0</td>\n",
       "    </tr>\n",
       "    <tr>\n",
       "      <th>3</th>\n",
       "      <td>0.283951</td>\n",
       "      <td>0.030704</td>\n",
       "      <td>0.0</td>\n",
       "      <td>1.0</td>\n",
       "      <td>0.0</td>\n",
       "      <td>0.9375</td>\n",
       "      <td>0.698753</td>\n",
       "      <td>0.60251</td>\n",
       "      <td>0.957379</td>\n",
       "      <td>0.859735</td>\n",
       "      <td>...</td>\n",
       "      <td>0</td>\n",
       "      <td>0</td>\n",
       "      <td>0</td>\n",
       "      <td>1</td>\n",
       "      <td>0</td>\n",
       "      <td>0</td>\n",
       "      <td>0</td>\n",
       "      <td>0</td>\n",
       "      <td>1</td>\n",
       "      <td>0</td>\n",
       "    </tr>\n",
       "    <tr>\n",
       "      <th>4</th>\n",
       "      <td>0.481481</td>\n",
       "      <td>0.062424</td>\n",
       "      <td>0.0</td>\n",
       "      <td>1.0</td>\n",
       "      <td>0.0</td>\n",
       "      <td>0.9375</td>\n",
       "      <td>0.698753</td>\n",
       "      <td>0.60251</td>\n",
       "      <td>0.957379</td>\n",
       "      <td>0.859735</td>\n",
       "      <td>...</td>\n",
       "      <td>0</td>\n",
       "      <td>0</td>\n",
       "      <td>0</td>\n",
       "      <td>1</td>\n",
       "      <td>0</td>\n",
       "      <td>0</td>\n",
       "      <td>0</td>\n",
       "      <td>0</td>\n",
       "      <td>1</td>\n",
       "      <td>0</td>\n",
       "    </tr>\n",
       "  </tbody>\n",
       "</table>\n",
       "<p>5 rows × 64 columns</p>\n",
       "</div>"
      ],
      "text/plain": [
       "        age  duration  campaign  pdays  previous  emp.var.rate  \\\n",
       "0  0.481481  0.053070       0.0    1.0       0.0        0.9375   \n",
       "1  0.493827  0.030297       0.0    1.0       0.0        0.9375   \n",
       "2  0.246914  0.045954       0.0    1.0       0.0        0.9375   \n",
       "3  0.283951  0.030704       0.0    1.0       0.0        0.9375   \n",
       "4  0.481481  0.062424       0.0    1.0       0.0        0.9375   \n",
       "\n",
       "   cons.price.idx  cons.conf.idx  euribor3m  nr.employed   ...     oct  sep  \\\n",
       "0        0.698753        0.60251   0.957379     0.859735   ...       0    0   \n",
       "1        0.698753        0.60251   0.957379     0.859735   ...       0    0   \n",
       "2        0.698753        0.60251   0.957379     0.859735   ...       0    0   \n",
       "3        0.698753        0.60251   0.957379     0.859735   ...       0    0   \n",
       "4        0.698753        0.60251   0.957379     0.859735   ...       0    0   \n",
       "\n",
       "   fri  mon  thu  tue  wed  failure  nonexistent  success  \n",
       "0    0    1    0    0    0        0            1        0  \n",
       "1    0    1    0    0    0        0            1        0  \n",
       "2    0    1    0    0    0        0            1        0  \n",
       "3    0    1    0    0    0        0            1        0  \n",
       "4    0    1    0    0    0        0            1        0  \n",
       "\n",
       "[5 rows x 64 columns]"
      ]
     },
     "execution_count": 115,
     "metadata": {},
     "output_type": "execute_result"
    }
   ],
   "source": [
    "rawData.head()"
   ]
  },
  {
   "cell_type": "code",
   "execution_count": 116,
   "metadata": {},
   "outputs": [
    {
     "data": {
      "text/plain": [
       "Index(['age', 'duration', 'campaign', 'pdays', 'previous', 'emp.var.rate',\n",
       "       'cons.price.idx', 'cons.conf.idx', 'euribor3m', 'nr.employed', 'y',\n",
       "       'admin.', 'blue-collar', 'entrepreneur', 'housemaid', 'management',\n",
       "       'retired', 'self-employed', 'services', 'student', 'technician',\n",
       "       'unemployed', 'unknown', 'divorced', 'married', 'single', 'unknown.1',\n",
       "       'basic.4y', 'basic.6y', 'basic.9y', 'high.school', 'illiterate',\n",
       "       'professional.course', 'university.degree', 'unknown.2', 'no',\n",
       "       'unknown.3', 'yes', 'no.1', 'unknown.4', 'yes.1', 'no.2', 'unknown.5',\n",
       "       'yes.2', 'cellular', 'telephone', 'apr', 'aug', 'dec', 'jul', 'jun',\n",
       "       'mar', 'may', 'nov', 'oct', 'sep', 'fri', 'mon', 'thu', 'tue', 'wed',\n",
       "       'failure', 'nonexistent', 'success'],\n",
       "      dtype='object')"
      ]
     },
     "execution_count": 116,
     "metadata": {},
     "output_type": "execute_result"
    }
   ],
   "source": [
    "rawData.columns"
   ]
  },
  {
   "cell_type": "code",
   "execution_count": 117,
   "metadata": {},
   "outputs": [
    {
     "name": "stdout",
     "output_type": "stream",
     "text": [
      "nInstances = 41188, nInput = 63, nClasses = 2\n"
     ]
    }
   ],
   "source": [
    "yLabel = 'y'\n",
    "keys = [i for i in rawData.keys() if i != yLabel]\n",
    "nInstances = rawData.shape[0]\n",
    "nInput = rawData.shape[1] - 1\n",
    "nClasses = rawData[yLabel].unique().shape[0]\n",
    "\n",
    "print(\"nInstances = {}, nInput = {}, nClasses = {}\".format(nInstances, nInput, nClasses))"
   ]
  },
  {
   "cell_type": "code",
   "execution_count": 118,
   "metadata": {},
   "outputs": [],
   "source": [
    "testSize = 0.25"
   ]
  },
  {
   "cell_type": "code",
   "execution_count": 119,
   "metadata": {},
   "outputs": [],
   "source": [
    "learningRate = 0.001\n",
    "trainingEpochs = 1000\n",
    "batchSize = 100\n",
    "displayStep = 20\n",
    "hiddenSize = 256\n",
    "activationFuncOut = tf.nn.tanh\n",
    "stdDev = 0.1\n",
    "randomState = 2018"
   ]
  },
  {
   "cell_type": "code",
   "execution_count": 120,
   "metadata": {},
   "outputs": [],
   "source": [
    "data = rawData[keys].get_values()\n",
    "labels = rawData[yLabel].get_values()"
   ]
  },
  {
   "cell_type": "code",
   "execution_count": 121,
   "metadata": {},
   "outputs": [
    {
     "data": {
      "text/plain": [
       "(41188, 63)"
      ]
     },
     "execution_count": 121,
     "metadata": {},
     "output_type": "execute_result"
    }
   ],
   "source": [
    "data.shape"
   ]
  },
  {
   "cell_type": "code",
   "execution_count": 122,
   "metadata": {},
   "outputs": [
    {
     "data": {
      "text/plain": [
       "dtype('float64')"
      ]
     },
     "execution_count": 122,
     "metadata": {},
     "output_type": "execute_result"
    }
   ],
   "source": [
    "labels.dtype"
   ]
  },
  {
   "cell_type": "markdown",
   "metadata": {},
   "source": [
    "Code the labels"
   ]
  },
  {
   "cell_type": "code",
   "execution_count": 123,
   "metadata": {},
   "outputs": [],
   "source": [
    "labels_ = np.zeros((nInstances, nClasses))\n",
    "labels_[np.arange(nInstances), labels.astype('int32')] = 1"
   ]
  },
  {
   "cell_type": "code",
   "execution_count": 124,
   "metadata": {},
   "outputs": [],
   "source": [
    "dataTrain, dataTest, labelsTrain, labelsTest = train_test_split(data, labels_,\n",
    "                                                               test_size = testSize,\n",
    "                                                               random_state = randomState)"
   ]
  },
  {
   "cell_type": "code",
   "execution_count": 125,
   "metadata": {},
   "outputs": [
    {
     "name": "stdout",
     "output_type": "stream",
     "text": [
      "Shapes:\n",
      "dataTrain: (30891, 63), dataTest: (10297, 63),\n",
      "labelsTrain: (30891, 2), labelsTest: (10297, 2)\n"
     ]
    }
   ],
   "source": [
    "print(\"Shapes:\\ndataTrain: {}, dataTest: {},\\nlabelsTrain: {}, labelsTest: {}\".format(dataTrain.shape,\n",
    "                                                                                     dataTest.shape,\n",
    "                                                                                     labelsTrain.shape,\n",
    "                                                                                     labelsTest.shape))"
   ]
  },
  {
   "cell_type": "code",
   "execution_count": 126,
   "metadata": {},
   "outputs": [],
   "source": [
    "net_nInput = nInput\n",
    "net_nHidden1 = hiddenSize\n",
    "net_nHidden2 = hiddenSize\n",
    "net_nHidden3 = hiddenSize\n",
    "net_nHidden4 = hiddenSize\n",
    "net_nClasses = nClasses\n",
    "\n",
    "tf.reset_default_graph()"
   ]
  },
  {
   "cell_type": "code",
   "execution_count": 127,
   "metadata": {},
   "outputs": [],
   "source": [
    "X = tf.placeholder(dtype = tf.float64, shape = (None, nInput))\n",
    "# Labels\n",
    "y = tf.placeholder(dtype = tf.float64, shape = (None, nClasses))"
   ]
  },
  {
   "cell_type": "markdown",
   "metadata": {},
   "source": [
    "Dropout: the probability of keeping a neuron active (otherwise the neuron is set to zero)."
   ]
  },
  {
   "cell_type": "code",
   "execution_count": 128,
   "metadata": {},
   "outputs": [],
   "source": [
    "dropoutKeepProb = tf.placeholder(tf.float64)"
   ]
  },
  {
   "cell_type": "code",
   "execution_count": 129,
   "metadata": {},
   "outputs": [],
   "source": [
    "def buildDeepMLPClassifier(_X, _weights, _biases, _dropoutKeepProb):\n",
    "    layer1 = tf.nn.dropout(tf.nn.tanh(tf.add(tf.matmul(_X, _weights['h1']), _biases['b1'])), _dropoutKeepProb)\n",
    "    layer2 = tf.nn.dropout(tf.nn.tanh(tf.add(tf.matmul(layer1, _weights['h2']), _biases['b2'])), _dropoutKeepProb)\n",
    "    layer3 = tf.nn.dropout(tf.nn.tanh(tf.add(tf.matmul(layer2, _weights['h3']), _biases['b3'])), _dropoutKeepProb)\n",
    "    layer4 = tf.nn.dropout(tf.nn.tanh(tf.add(tf.matmul(layer3, _weights['h4']), _biases['b4'])), _dropoutKeepProb)\n",
    "    out = activationFuncOut(tf.add(tf.matmul(layer4, _weights['out']), _biases['out']))\n",
    "    return out"
   ]
  },
  {
   "cell_type": "code",
   "execution_count": 130,
   "metadata": {},
   "outputs": [],
   "source": [
    "weights = {\n",
    "    'h1': tf.Variable(tf.random_normal((net_nInput, net_nHidden1), stddev = stdDev, dtype = tf.float64)),\n",
    "    'h2': tf.Variable(tf.random_normal((net_nHidden1, net_nHidden2), stddev = stdDev, dtype = tf.float64)),\n",
    "    'h3': tf.Variable(tf.random_normal((net_nHidden2, net_nHidden3), stddev = stdDev, dtype = tf.float64)),\n",
    "    'h4': tf.Variable(tf.random_normal((net_nHidden3, net_nHidden4), stddev = stdDev, dtype = tf.float64)),\n",
    "    'out': tf.Variable(tf.random_normal((net_nHidden4, net_nClasses), stddev = stdDev, dtype = tf.float64))\n",
    "}\n",
    "biases = {\n",
    "    'b1': tf.Variable(tf.random_normal((net_nHidden1,), dtype = tf.float64)),\n",
    "    'b2': tf.Variable(tf.random_normal((net_nHidden2,), dtype = tf.float64)),\n",
    "    'b3': tf.Variable(tf.random_normal((net_nHidden3,), dtype = tf.float64)),\n",
    "    'b4': tf.Variable(tf.random_normal((net_nHidden4,), dtype = tf.float64)),\n",
    "    'out': tf.Variable(tf.random_normal((net_nClasses,), dtype = tf.float64))\n",
    "}"
   ]
  },
  {
   "cell_type": "code",
   "execution_count": 131,
   "metadata": {},
   "outputs": [],
   "source": [
    "pred = buildDeepMLPClassifier(X, weights, biases, dropoutKeepProb)"
   ]
  },
  {
   "cell_type": "code",
   "execution_count": 132,
   "metadata": {},
   "outputs": [],
   "source": [
    "cost = tf.reduce_mean(tf.nn.softmax_cross_entropy_with_logits_v2(logits = pred, labels = y))"
   ]
  },
  {
   "cell_type": "code",
   "execution_count": 133,
   "metadata": {},
   "outputs": [],
   "source": [
    "optimizer = tf.train.AdamOptimizer(learning_rate = learningRate).minimize(cost)"
   ]
  },
  {
   "cell_type": "markdown",
   "metadata": {},
   "source": [
    "Additional parameters for computing the classification accuracy:"
   ]
  },
  {
   "cell_type": "code",
   "execution_count": 134,
   "metadata": {},
   "outputs": [],
   "source": [
    "correctPrediction = tf.equal(tf.argmax(pred, 1), tf.argmax(y, 1))\n",
    "accuracy = tf.reduce_mean(tf.cast(correctPrediction, tf.float64))"
   ]
  },
  {
   "cell_type": "markdown",
   "metadata": {},
   "source": [
    "## Training "
   ]
  },
  {
   "cell_type": "code",
   "execution_count": 135,
   "metadata": {},
   "outputs": [],
   "source": [
    "initOp = tf.global_variables_initializer()"
   ]
  },
  {
   "cell_type": "code",
   "execution_count": 136,
   "metadata": {},
   "outputs": [],
   "source": [
    "sess = tf.Session()\n",
    "sess.run(initOp)"
   ]
  },
  {
   "cell_type": "code",
   "execution_count": 137,
   "metadata": {},
   "outputs": [
    {
     "name": "stdout",
     "output_type": "stream",
     "text": [
      "Epoch 0/1000: avg. cost 0.35491395240100215\n",
      "Training accuracy: 0.9\n",
      "Epoch 20/1000: avg. cost 0.3569929460687068\n",
      "Training accuracy: 0.88\n",
      "Epoch 40/1000: avg. cost 0.3516682707107589\n",
      "Training accuracy: 0.9\n",
      "Epoch 60/1000: avg. cost 0.3542656733809655\n",
      "Training accuracy: 0.93\n",
      "Epoch 80/1000: avg. cost 0.3506293097445214\n",
      "Training accuracy: 0.88\n",
      "Epoch 100/1000: avg. cost 0.3495254136405275\n",
      "Training accuracy: 0.9\n",
      "Epoch 120/1000: avg. cost 0.3524474915625439\n",
      "Training accuracy: 0.82\n",
      "Epoch 140/1000: avg. cost 0.3542007383157631\n",
      "Training accuracy: 0.87\n",
      "Epoch 160/1000: avg. cost 0.35575917987418354\n",
      "Training accuracy: 0.87\n",
      "Epoch 180/1000: avg. cost 0.3497202188352367\n",
      "Training accuracy: 0.9\n",
      "Epoch 200/1000: avg. cost 0.3529020370170362\n",
      "Training accuracy: 0.9\n",
      "Epoch 220/1000: avg. cost 0.351018920133919\n",
      "Training accuracy: 0.93\n",
      "Epoch 240/1000: avg. cost 0.35095398506897907\n",
      "Training accuracy: 0.89\n",
      "Epoch 260/1000: avg. cost 0.3587461928611624\n",
      "Training accuracy: 0.92\n",
      "Epoch 280/1000: avg. cost 0.351473465588451\n",
      "Training accuracy: 0.86\n",
      "Epoch 300/1000: avg. cost 0.35510982922480344\n",
      "Training accuracy: 0.9\n",
      "Epoch 320/1000: avg. cost 0.35231762143260026\n",
      "Training accuracy: 0.92\n",
      "Epoch 340/1000: avg. cost 0.347707231822218\n",
      "Training accuracy: 0.9\n",
      "Epoch 360/1000: avg. cost 0.3517981409131172\n",
      "Training accuracy: 0.93\n",
      "Epoch 380/1000: avg. cost 0.3502396993546785\n",
      "Training accuracy: 0.83\n",
      "Epoch 400/1000: avg. cost 0.35614879026375673\n",
      "Training accuracy: 0.88\n",
      "Epoch 420/1000: avg. cost 0.3562786603936263\n",
      "Training accuracy: 0.89\n",
      "Epoch 440/1000: avg. cost 0.3520578811728532\n",
      "Training accuracy: 0.91\n",
      "Epoch 460/1000: avg. cost 0.3488760629910402\n",
      "Training accuracy: 0.84\n",
      "Epoch 480/1000: avg. cost 0.3517332058481768\n",
      "Training accuracy: 0.86\n",
      "Epoch 500/1000: avg. cost 0.3503046344196075\n",
      "Training accuracy: 0.87\n",
      "Epoch 520/1000: avg. cost 0.35407086818583433\n",
      "Training accuracy: 0.88\n",
      "Epoch 540/1000: avg. cost 0.35439554351050867\n",
      "Training accuracy: 0.84\n",
      "Epoch 560/1000: avg. cost 0.35342151753648376\n",
      "Training accuracy: 0.86\n",
      "Epoch 580/1000: avg. cost 0.3558890500040125\n",
      "Training accuracy: 0.93\n",
      "Epoch 600/1000: avg. cost 0.34907086818583927\n",
      "Training accuracy: 0.91\n",
      "Epoch 620/1000: avg. cost 0.35309684221180715\n",
      "Training accuracy: 0.87\n",
      "Epoch 640/1000: avg. cost 0.34601892013389585\n",
      "Training accuracy: 0.87\n",
      "Epoch 660/1000: avg. cost 0.35705788117283993\n",
      "Training accuracy: 0.93\n",
      "Epoch 680/1000: avg. cost 0.3497851539001222\n",
      "Training accuracy: 0.9\n",
      "Epoch 700/1000: avg. cost 0.3488111279260976\n",
      "Training accuracy: 0.9\n",
      "Epoch 720/1000: avg. cost 0.3578371019520583\n",
      "Training accuracy: 0.95\n",
      "Epoch 740/1000: avg. cost 0.3538111279260896\n",
      "Training accuracy: 0.87\n",
      "Epoch 760/1000: avg. cost 0.35465528377024425\n",
      "Training accuracy: 0.88\n",
      "Epoch 780/1000: avg. cost 0.3540059331208941\n",
      "Training accuracy: 0.89\n",
      "Epoch 800/1000: avg. cost 0.35231762143258416\n",
      "Training accuracy: 0.92\n",
      "Epoch 820/1000: avg. cost 0.35699294610790194\n",
      "Training accuracy: 0.88\n",
      "Epoch 840/1000: avg. cost 0.35335658247154283\n",
      "Training accuracy: 0.88\n",
      "Epoch 860/1000: avg. cost 0.34718775130271945\n",
      "Training accuracy: 0.88\n",
      "Epoch 880/1000: avg. cost 0.35543450454946107\n",
      "Training accuracy: 0.88\n",
      "Epoch 900/1000: avg. cost 0.35166827078323254\n",
      "Training accuracy: 0.86\n",
      "Epoch 920/1000: avg. cost 0.3572526863676408\n",
      "Training accuracy: 0.93\n",
      "Epoch 940/1000: avg. cost 0.3550448941598507\n",
      "Training accuracy: 0.92\n",
      "Epoch 960/1000: avg. cost 0.350044894159857\n",
      "Training accuracy: 0.88\n",
      "Epoch 980/1000: avg. cost 0.35738255649750933\n",
      "Training accuracy: 0.86\n"
     ]
    }
   ],
   "source": [
    "for epoch in range(trainingEpochs):\n",
    "    avgCost = 0.0\n",
    "    totalBatches = int(dataTrain.shape[0] / batchSize)\n",
    "    # Loop over all batches\n",
    "    for i in range(totalBatches):\n",
    "        randidx = np.random.randint(dataTrain.shape[0], size = batchSize)\n",
    "        batchX = dataTrain[randidx, :]\n",
    "        batchY = labelsTrain[randidx, :]\n",
    "        sess.run(optimizer, feed_dict = {X: batchX, y: batchY, dropoutKeepProb: 0.9})\n",
    "        avgCost += sess.run(cost, \n",
    "                            feed_dict = {X: batchX, y: batchY, dropoutKeepProb: 1.0}) / totalBatches\n",
    "    if epoch % displayStep == 0:\n",
    "        print(\"Epoch {}/{}: avg. cost {}\".format(epoch, trainingEpochs, avgCost))\n",
    "        trainAcc = sess.run(accuracy, feed_dict = {X: batchX, y: batchY, dropoutKeepProb: 1.0})\n",
    "        print(\"Training accuracy: {}\".format(trainAcc))"
   ]
  },
  {
   "cell_type": "code",
   "execution_count": 139,
   "metadata": {},
   "outputs": [
    {
     "name": "stdout",
     "output_type": "stream",
     "text": [
      "Prediction/classification accuracy: 0.8887054481887928\n"
     ]
    }
   ],
   "source": [
    "testAcc = sess.run(accuracy, feed_dict = {X: dataTest, y: labelsTest, dropoutKeepProb: 1.0})\n",
    "print(\"Prediction/classification accuracy: {}\".format(testAcc))"
   ]
  },
  {
   "cell_type": "code",
   "execution_count": 140,
   "metadata": {},
   "outputs": [],
   "source": [
    "sess.close()"
   ]
  }
 ],
 "metadata": {
  "kernelspec": {
   "display_name": "Python 3",
   "language": "python",
   "name": "python3"
  },
  "language_info": {
   "codemirror_mode": {
    "name": "ipython",
    "version": 3
   },
   "file_extension": ".py",
   "mimetype": "text/x-python",
   "name": "python",
   "nbconvert_exporter": "python",
   "pygments_lexer": "ipython3",
   "version": "3.6.7+"
  }
 },
 "nbformat": 4,
 "nbformat_minor": 2
}
