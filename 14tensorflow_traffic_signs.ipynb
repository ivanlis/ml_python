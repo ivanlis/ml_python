{
 "cells": [
  {
   "cell_type": "code",
   "execution_count": 1,
   "metadata": {},
   "outputs": [],
   "source": [
    "import tensorflow as tf\n",
    "import os\n",
    "\n",
    "rootPath = \"data\"\n",
    "trainDataDirectory = os.path.join(rootPath, \"belgium_traffic_signs\", \"Training\")\n",
    "testDataDirectory = os.path.join(rootPath, \"belgium_traffic_signs\", \"Testing\")"
   ]
  },
  {
   "cell_type": "code",
   "execution_count": 2,
   "metadata": {},
   "outputs": [],
   "source": [
    "import skimage\n",
    "\n",
    "def loadData(dataDirectory):\n",
    "    \n",
    "    directories = [d for d in os.listdir(dataDirectory)\n",
    "                  if os.path.isdir(os.path.join(dataDirectory, d))]\n",
    "    \n",
    "    labels = []\n",
    "    images = []\n",
    "    \n",
    "    for d in directories:\n",
    "        labelDirectory = os.path.join(dataDirectory, d)\n",
    "        fileNames = [os.path.join(labelDirectory, f)\n",
    "                    for f in os.listdir(labelDirectory) if f.endswith(\".ppm\")]\n",
    "        for f in fileNames:\n",
    "            images.append(skimage.data.imread(f))\n",
    "            labels.append(int(d))\n",
    "    \n",
    "    return images, labels"
   ]
  },
  {
   "cell_type": "code",
   "execution_count": 4,
   "metadata": {},
   "outputs": [],
   "source": [
    "images, labels = loadData(trainDataDirectory)"
   ]
  },
  {
   "cell_type": "code",
   "execution_count": 12,
   "metadata": {},
   "outputs": [
    {
     "name": "stdout",
     "output_type": "stream",
     "text": [
      "images.ndim = 1, images.size = 4575\n"
     ]
    }
   ],
   "source": [
    "import numpy as np\n",
    "\n",
    "images = np.array(images)\n",
    "labels = np.array(labels)\n",
    "\n",
    "print(\"images.ndim = {}, images.size = {}\".format(images.ndim, images.size))"
   ]
  },
  {
   "cell_type": "code",
   "execution_count": 17,
   "metadata": {},
   "outputs": [
    {
     "name": "stdout",
     "output_type": "stream",
     "text": [
      "labels.ndim = 1, labels.size = 4575, distinct labels: 62\n"
     ]
    }
   ],
   "source": [
    "#images[0]\n",
    "print(\"labels.ndim = {}, labels.size = {}, distinct labels: {}\".format(\n",
    "    labels.ndim, labels.size, np.unique(labels).size))"
   ]
  },
  {
   "cell_type": "code",
   "execution_count": 22,
   "metadata": {},
   "outputs": [
    {
     "data": {
      "image/png": "[encoded data removed]",
      "text/plain": [
       "<Figure size 432x288 with 1 Axes>"
      ]
     },
     "metadata": {
      "needs_background": "light"
     },
     "output_type": "display_data"
    }
   ],
   "source": [
    "import matplotlib.pyplot as plt\n",
    "\n",
    "fig = plt.figure()\n",
    "ax = plt.axes()\n",
    "\n",
    "plt.hist(labels, 62);"
   ]
  }
 ],
 "metadata": {
  "kernelspec": {
   "display_name": "Python 3",
   "language": "python",
   "name": "python3"
  },
  "language_info": {
   "codemirror_mode": {
    "name": "ipython",
    "version": 3
   },
   "file_extension": ".py",
   "mimetype": "text/x-python",
   "name": "python",
   "nbconvert_exporter": "python",
   "pygments_lexer": "ipython3",
   "version": "3.6.7+"
  }
 },
 "nbformat": 4,
 "nbformat_minor": 2
}
